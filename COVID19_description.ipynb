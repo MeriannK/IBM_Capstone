{
    "cells": [
        {
            "cell_type": "markdown",
            "metadata": {
                "collapsed": true
            },
            "source": "### Description of the problem and a discussion of the background\nToday we all are fighting against a virus. The virus, which causes a pneumonia-like disease called COVID-19 and has so far killed more than 160000 people worldwide, quickly burst through national borders. The coronavirus COVID-19 is affecting 210 countries and territories around the world. On this day (20th April 2020) 2,431,390 cases of the disease were detected. There are 1627721currently infected patients and 3% of them are in serious or critical condition. There are also 803 669 cases that had an outcome and 21% from them are deaths.\nThis pandemic is a global problem. And no other idea is important like stop spreading COVID-19. That's why I decided to analyze data connected with COVID-19.\nWith the rapid spread in the novel corona-virus across countries, the World Health Organisation (WHO) and several organizations have published the latest results on the impact of COVID-19 over the past few months."
        },
        {
            "cell_type": "markdown",
            "metadata": {},
            "source": "### Description of the data and how it will be used to solve the problem\nIn my analysis, I will use a dataset from Johns Hopkins (JHU). The main reasons cited for using the JHU data are:\n- JHU is already a trusted and respected institution,\n- They cite many sources, which are themselves reputable,\n- The data is updated daily, and\n- It is provided in an easily digestible format (.csv in a github repository).\nThis dataset has daily level information on the number of affected cases, deaths and recovery from 2019 novel coronavirus. The number of cases on any given day is the cumulative number.\n\nAlso I used demographic data for calculating number of cases per million."
        },
        {
            "cell_type": "code",
            "execution_count": null,
            "metadata": {},
            "outputs": [],
            "source": ""
        }
    ],
    "metadata": {
        "kernelspec": {
            "display_name": "Python 3.6",
            "language": "python",
            "name": "python3"
        },
        "language_info": {
            "codemirror_mode": {
                "name": "ipython",
                "version": 3
            },
            "file_extension": ".py",
            "mimetype": "text/x-python",
            "name": "python",
            "nbconvert_exporter": "python",
            "pygments_lexer": "ipython3",
            "version": "3.6.9"
        }
    },
    "nbformat": 4,
    "nbformat_minor": 1
}